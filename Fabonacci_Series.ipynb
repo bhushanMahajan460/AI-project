{
 "cells": [
  {
   "cell_type": "code",
   "execution_count": 11,
   "metadata": {},
   "outputs": [
    {
     "name": "stdout",
     "output_type": "stream",
     "text": [
      "This program show you fabonacci series:\n",
      "Enter the number:20\n",
      "Fibonacci Series upto 20 is\n",
      "0\n",
      "1\n",
      "1\n",
      "2\n",
      "3\n",
      "5\n",
      "8\n",
      "13\n",
      "21\n",
      "34\n",
      "55\n",
      "89\n",
      "144\n",
      "233\n",
      "377\n",
      "610\n",
      "987\n",
      "1597\n",
      "2584\n",
      "4181\n"
     ]
    }
   ],
   "source": [
    "print('This program show you fabonacci series:')\n",
    "x = int(input('Enter the number:'))\n",
    "a = 0\n",
    "b = 1\n",
    "count = 0\n",
    "if x<=0:\n",
    "    print(\"Enter the positive no.!\")\n",
    "elif x==1:\n",
    "    print(\"Fibonacci Series upto\",x,'is',x)\n",
    "else:\n",
    "    print(\"Fibonacci Series upto\",x,'is')\n",
    "    for i in range(1,x+1):\n",
    "        print(a)\n",
    "        c=a+b\n",
    "        a=b\n",
    "        b=c\n",
    "        "
   ]
  },
  {
   "cell_type": "code",
   "execution_count": null,
   "metadata": {},
   "outputs": [],
   "source": []
  }
 ],
 "metadata": {
  "kernelspec": {
   "display_name": "Python 3",
   "language": "python",
   "name": "python3"
  },
  "language_info": {
   "codemirror_mode": {
    "name": "ipython",
    "version": 3
   },
   "file_extension": ".py",
   "mimetype": "text/x-python",
   "name": "python",
   "nbconvert_exporter": "python",
   "pygments_lexer": "ipython3",
   "version": "3.7.4"
  }
 },
 "nbformat": 4,
 "nbformat_minor": 2
}
//awesome
